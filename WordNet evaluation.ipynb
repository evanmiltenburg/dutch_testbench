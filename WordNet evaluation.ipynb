{
 "cells": [
  {
   "cell_type": "markdown",
   "metadata": {},
   "source": [
    "# Evaluating Cornetto on several semantic measures\n",
    "\n",
    "Below, I evaluate Cornetto on the following semantic measures:\n",
    "* Relatedness\n",
    "* Similarity\n",
    "* Typicality & Goodness\n",
    "\n",
    "I have implemented these measures in a module called 'dutch testbench'. The first few cells are to set up this notebook. Scroll down to see the graphs!\n",
    "    "
   ]
  },
  {
   "cell_type": "code",
   "execution_count": 56,
   "metadata": {
    "collapsed": true
   },
   "outputs": [],
   "source": [
    "%matplotlib inline"
   ]
  },
  {
   "cell_type": "code",
   "execution_count": 22,
   "metadata": {
    "collapsed": true
   },
   "outputs": [],
   "source": [
    "import pandas\n",
    "import seaborn as sns\n",
    "from matplotlib import pyplot as plt"
   ]
  },
  {
   "cell_type": "code",
   "execution_count": 42,
   "metadata": {
    "collapsed": true
   },
   "outputs": [],
   "source": [
    "sns.set_style(\"whitegrid\")"
   ]
  },
  {
   "cell_type": "code",
   "execution_count": 3,
   "metadata": {
    "collapsed": true
   },
   "outputs": [],
   "source": [
    "import csv, zipfile\n",
    "from io import StringIO\n",
    "from dutch_testbench import test_suite"
   ]
  },
  {
   "cell_type": "markdown",
   "metadata": {},
   "source": [
    "## Loading the Cornetto model\n",
    "\n",
    "Here I define the class WordNetModel. This class loads similarity data that was generated using Piek Vossen's WordNetTools. In the comparison below I use W&P distance, path distance and L&C distance.\n",
    "\n",
    "The class has two important methods:\n",
    "1. Similarity: returns the similarity between two items.\n",
    "2. Doesn't match: returns the word that is least similar to the other words passed to it."
   ]
  },
  {
   "cell_type": "code",
   "execution_count": 4,
   "metadata": {
    "collapsed": true
   },
   "outputs": [],
   "source": [
    "class WordNetModel(object):\n",
    "    \"\"\"Object that loads a list of similarity values, and that has a similar interface\n",
    "    to a Gensim model.\"\"\"\n",
    "    def __init__(self):\n",
    "        self.simtype = 'Similar by path'\n",
    "        self.simtypes = {'Similar by W&P', 'Similar by path', 'Similar by L&C'}\n",
    "        zf      = zipfile.ZipFile('./WordNet-tools/sim-processing/simpairs.txt.all.zip')\n",
    "        data    = StringIO(zf.read('simpairs.txt.all').decode('utf-8'))\n",
    "        reader  = csv.DictReader(data, delimiter='\\t')\n",
    "        self.simdict = {(entry['word-1'], entry['word-2']): entry for entry in reader\n",
    "                        if not entry['Similar by path'] == '-1.0'}\n",
    "        self.vocab   = {w for pair in self.simdict for w in pair}\n",
    "        zf.close()\n",
    "        del data\n",
    "        del reader\n",
    "    \n",
    "    def similarity(self,a,b):\n",
    "        \"Computes the similarity between a and b.\"\n",
    "        pair = tuple(sorted([a,b]))\n",
    "        return float(self.simdict[pair][self.simtype])\n",
    "    \n",
    "    def doesnt_match(self, l):\n",
    "        \"\"\"Computes similarities between the items in l and return the\n",
    "        item with the lowest sum of similarities to the other items.\"\"\"\n",
    "        words = set(l)\n",
    "        def sum_of_similarities(i):\n",
    "            return sum(self.similarity(i,x) for x in (words - {i}) )\n",
    "        \n",
    "        return min( (sum_of_similarities(i), i) for i in l)[1]"
   ]
  },
  {
   "cell_type": "code",
   "execution_count": 5,
   "metadata": {
    "collapsed": true
   },
   "outputs": [],
   "source": [
    "def evaluate_on_all(model):\n",
    "    vocab = model.vocab\n",
    "    results = { 'Relatedness': test_suite.test_relatedness_1(model, vocab),\n",
    "                'Relatedness-cc': test_suite.test_relatedness_2(model, vocab, variant = 'cross-cat'),\n",
    "                'Relatedness-ccw': test_suite.test_relatedness_2(model, vocab, variant = 'cross-cat-weighted'),\n",
    "                'Relatedness-wc': test_suite.test_relatedness_2(model, vocab, variant = 'within-cat'),\n",
    "                'Relatedness-wcw': test_suite.test_relatedness_2(model, vocab, variant = 'within-cat-weighted'),\n",
    "                'Similarity1': test_suite.test_similarity_1(model, vocab),\n",
    "                'Similarity2': test_suite.test_similarity_2(model, vocab),\n",
    "                'typicality': test_suite.test_typicality(model, vocab),\n",
    "                'goodness': test_suite.test_goodness(model, vocab),\n",
    "                }\n",
    "    return results"
   ]
  },
  {
   "cell_type": "code",
   "execution_count": 6,
   "metadata": {
    "collapsed": true
   },
   "outputs": [],
   "source": [
    "model = WordNetModel()"
   ]
  },
  {
   "cell_type": "code",
   "execution_count": 49,
   "metadata": {
    "collapsed": false
   },
   "outputs": [],
   "source": [
    "def results_as_df(all_results, exclude={}, getscore=lambda result: result['score']):\n",
    "    data = {'Model':[], 'Score':[], 'Measure':[]}\n",
    "    for model, results in all_results.items():\n",
    "        for measure in results:\n",
    "            if not measure in exclude:\n",
    "                data['Model'].append(model)\n",
    "                data['Score'].append(getscore(results[measure]))\n",
    "                data['Measure'].append(measure)\n",
    "    return pandas.DataFrame.from_dict(data)"
   ]
  },
  {
   "cell_type": "code",
   "execution_count": 8,
   "metadata": {
    "collapsed": false
   },
   "outputs": [],
   "source": [
    "def get_all_relatedness():\n",
    "    all_results = dict()\n",
    "    for simtype in model.simtypes:\n",
    "        model.simtype = simtype\n",
    "        all_results[simtype] = evaluate_on_all(model)\n",
    "    return all_results"
   ]
  },
  {
   "cell_type": "code",
   "execution_count": 9,
   "metadata": {
    "collapsed": true
   },
   "outputs": [],
   "source": [
    "all_results = get_all_relatedness()"
   ]
  },
  {
   "cell_type": "markdown",
   "metadata": {},
   "source": [
    "## First results: relatedness\n",
    "\n",
    "Here are the relatedness-results:"
   ]
  },
  {
   "cell_type": "code",
   "execution_count": 50,
   "metadata": {
    "collapsed": false
   },
   "outputs": [
    {
     "data": {
      "image/png": "[encoded data removed]",
      "text/plain": [
       "<matplotlib.figure.Figure at 0x10bd5bcd0>"
      ]
     },
     "metadata": {},
     "output_type": "display_data"
    }
   ],
   "source": [
    "data        = results_as_df(all_results, \n",
    "                            exclude={'Similarity1', 'Similarity2', 'typicality', 'goodness'},\n",
    "                            getscore=lambda result: result['score'])\n",
    "palette     = sns.cubehelix_palette(8, start=.5, rot=-0.75)\n",
    "sns.barplot(x=\"Measure\", y=\"Score\", hue=\"Model\", data=data, palette=palette)\n",
    "sns.despine(left=True)"
   ]
  },
  {
   "cell_type": "markdown",
   "metadata": {},
   "source": [
    "## More results: Similarity"
   ]
  },
  {
   "cell_type": "code",
   "execution_count": 54,
   "metadata": {
    "collapsed": false
   },
   "outputs": [
    {
     "data": {
      "image/png": "[encoded data removed]",
      "text/plain": [
       "<matplotlib.figure.Figure at 0x10ad1a2d0>"
      ]
     },
     "metadata": {},
     "output_type": "display_data"
    }
   ],
   "source": [
    "data        = results_as_df(all_results, \n",
    "                            exclude={'Relatedness', 'Relatedness-cc', 'Relatedness-ccw', \n",
    "                                     'Relatedness-wc', 'Relatedness-wcw', 'typicality', \n",
    "                                     'goodness'},\n",
    "                            getscore=lambda result: result['overall']['spearmanr'][0])\n",
    "data\n",
    "palette     = sns.cubehelix_palette(8, start=.5, rot=-0.75)\n",
    "sns.barplot(x=\"Measure\", y=\"Score\", hue=\"Model\", data=data, palette=palette)\n",
    "sns.despine(left=True)"
   ]
  },
  {
   "cell_type": "markdown",
   "metadata": {},
   "source": [
    "## Last result: typicality & goodness"
   ]
  },
  {
   "cell_type": "code",
   "execution_count": 59,
   "metadata": {
    "collapsed": false
   },
   "outputs": [
    {
     "data": {
      "image/png": "[encoded data removed]",
      "text/plain": [
       "<matplotlib.figure.Figure at 0x10aa99c50>"
      ]
     },
     "metadata": {},
     "output_type": "display_data"
    }
   ],
   "source": [
    "def get_score(result):\n",
    "    return result['score']\n",
    "\n",
    "data        = results_as_df(all_results, \n",
    "                            exclude={'goodness','Similarity1', 'Similarity2', 'Relatedness', \n",
    "                                     'Relatedness-cc', 'Relatedness-ccw', \n",
    "                                     'Relatedness-wc', 'Relatedness-wcw',},\n",
    "                            getscore=get_score)\n",
    "palette     = sns.cubehelix_palette(8, start=.5, rot=-0.75)\n",
    "sns.barplot(x=\"Measure\", y=\"Score\", hue=\"Model\", data=data, palette=palette)\n",
    "sns.despine(left=True)"
   ]
  },
  {
   "cell_type": "code",
   "execution_count": 61,
   "metadata": {
    "collapsed": false
   },
   "outputs": [
    {
     "data": {
      "image/png": "[encoded data removed]",
      "text/plain": [
       "<matplotlib.figure.Figure at 0x10bc51650>"
      ]
     },
     "metadata": {},
     "output_type": "display_data"
    }
   ],
   "source": [
    "def get_score(result):\n",
    "    return result['overall']['avg_spearman']\n",
    "\n",
    "data        = results_as_df(all_results, \n",
    "                            exclude={'typicality','Similarity1', 'Similarity2', 'Relatedness', \n",
    "                                     'Relatedness-cc', 'Relatedness-ccw', \n",
    "                                     'Relatedness-wc', 'Relatedness-wcw',},\n",
    "                            getscore=get_score)\n",
    "palette     = sns.cubehelix_palette(8, start=.5, rot=-0.75)\n",
    "sns.barplot(x=\"Measure\", y=\"Score\", hue=\"Model\", data=data, palette=palette)\n",
    "sns.despine(left=True)"
   ]
  },
  {
   "cell_type": "code",
   "execution_count": null,
   "metadata": {
    "collapsed": true
   },
   "outputs": [],
   "source": []
  }
 ],
 "metadata": {
  "kernelspec": {
   "display_name": "Python 3",
   "language": "python",
   "name": "python3"
  },
  "language_info": {
   "codemirror_mode": {
    "name": "ipython",
    "version": 3
   },
   "file_extension": ".py",
   "mimetype": "text/x-python",
   "name": "python",
   "nbconvert_exporter": "python",
   "pygments_lexer": "ipython3",
   "version": "3.3.5"
  }
 },
 "nbformat": 4,
 "nbformat_minor": 0
}
