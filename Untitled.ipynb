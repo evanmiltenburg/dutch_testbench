{
 "cells": [
  {
   "cell_type": "code",
   "execution_count": 27,
   "metadata": {
    "collapsed": true
   },
   "outputs": [],
   "source": [
    "from dutch_testbench import test_suite\n",
    "from dutch_testbench import ruts_etal_relatedness\n",
    "from numpy import percentile"
   ]
  },
  {
   "cell_type": "code",
   "execution_count": 36,
   "metadata": {
    "collapsed": true
   },
   "outputs": [],
   "source": [
    "d = ruts_etal_relatedness.get_association_dict()"
   ]
  },
  {
   "cell_type": "code",
   "execution_count": 62,
   "metadata": {
    "collapsed": false
   },
   "outputs": [
    {
     "data": {
      "text/plain": [
       "dict_keys(['tandarts', 'boekhouder', 'psycholoog', 'secretaresse', 'slager', 'directeur', 'stewardess', 'brandweerman', 'architect', 'leraar', 'opvoedster', 'vuilnisman', 'loodgieter', 'winkelbediende', 'politieagent', 'piloot', 'informaticus', 'advocaat', 'kinesist', 'dierenarts', 'minister', 'marktkramer', 'rechter', 'apotheker', 'postbode', 'archeoloog', 'bakker', 'dokter', 'kok', 'acteur'])"
      ]
     },
     "execution_count": 62,
     "metadata": {},
     "output_type": "execute_result"
    }
   ],
   "source": [
    "d['beroepen'].keys()"
   ]
  },
  {
   "cell_type": "code",
   "execution_count": 49,
   "metadata": {
    "collapsed": false
   },
   "outputs": [
    {
     "data": {
      "text/plain": [
       "8.0499999999999829"
      ]
     },
     "execution_count": 49,
     "metadata": {},
     "output_type": "execute_result"
    }
   ],
   "source": [
    "percentile(l,95)"
   ]
  },
  {
   "cell_type": "code",
   "execution_count": 50,
   "metadata": {
    "collapsed": false
   },
   "outputs": [
    {
     "data": {
      "text/plain": [
       "94"
      ]
     },
     "execution_count": 50,
     "metadata": {},
     "output_type": "execute_result"
    }
   ],
   "source": [
    "len(l)"
   ]
  },
  {
   "cell_type": "code",
   "execution_count": 60,
   "metadata": {
    "collapsed": false
   },
   "outputs": [],
   "source": [
    "def top_and_bottom(counter, p=5):\n",
    "    top = percentile(list(counter.values()), 100-p)\n",
    "    bottom = percentile(list(counter.values()), p)\n",
    "    print((top, bottom))\n",
    "    return ([a for a,b in counter.most_common() if b >= top],\n",
    "           [a for a,b in counter.most_common() if b <= bottom])"
   ]
  },
  {
   "cell_type": "code",
   "execution_count": 61,
   "metadata": {
    "collapsed": false
   },
   "outputs": [
    {
     "name": "stdout",
     "output_type": "stream",
     "text": [
      "(8.0499999999999829, 1.0)\n"
     ]
    },
    {
     "data": {
      "text/plain": [
       "(['pijn', 'tanden', 'boor', 'wit', 'tand'],\n",
       " ['zetel',\n",
       "  'mijntandarts',\n",
       "  'bloemetjes',\n",
       "  'dringend',\n",
       "  'vies',\n",
       "  'wittetanden',\n",
       "  'help',\n",
       "  'speeksel',\n",
       "  'duur',\n",
       "  'lichtinogen',\n",
       "  'boren',\n",
       "  'lief',\n",
       "  'familie',\n",
       "  'seks',\n",
       "  'ambetant',\n",
       "  'stinken',\n",
       "  'metaal',\n",
       "  'dokter',\n",
       "  'tekeningen',\n",
       "  'lamp',\n",
       "  'tandartsstoel',\n",
       "  'geur',\n",
       "  'wrat',\n",
       "  'wachtzaal',\n",
       "  'praktijk',\n",
       "  'ligstoel',\n",
       "  'mama',\n",
       "  'wijsheidstand',\n",
       "  'bloed',\n",
       "  'controle',\n",
       "  'tandpijn',\n",
       "  'machines',\n",
       "  'verdoving',\n",
       "  'kiespijn',\n",
       "  'tong',\n",
       "  'vader',\n",
       "  'vrienden',\n",
       "  'waarschoot',\n",
       "  'faculteit',\n",
       "  'beroep',\n",
       "  'gebit',\n",
       "  'veearst',\n",
       "  '6.0',\n",
       "  'schrik',\n",
       "  'ziekenhuis',\n",
       "  'kiel',\n",
       "  'boormachine',\n",
       "  'brug',\n",
       "  'mond',\n",
       "  'spuitje',\n",
       "  'witteschort',\n",
       "  'calciumhydroxide',\n",
       "  'tandenborstel',\n",
       "  'pjn',\n",
       "  'boortje',\n",
       "  'angst',\n",
       "  'bzzz',\n",
       "  'koud',\n",
       "  'eigenaardigegeur',\n",
       "  'schelgeluid',\n",
       "  'poren',\n",
       "  'geneeskunde',\n",
       "  'spuiten',\n",
       "  'groenwittekledij',\n",
       "  'vullingen',\n",
       "  'trekken',\n",
       "  'tandsteen',\n",
       "  'lang',\n",
       "  'licht',\n",
       "  'wittekamers',\n",
       "  'rareinstrumenten'])"
      ]
     },
     "execution_count": 61,
     "metadata": {},
     "output_type": "execute_result"
    }
   ],
   "source": [
    "top_and_bottom(d['beroepen']['tandarts'])"
   ]
  },
  {
   "cell_type": "code",
   "execution_count": null,
   "metadata": {
    "collapsed": true
   },
   "outputs": [],
   "source": []
  }
 ],
 "metadata": {
  "kernelspec": {
   "display_name": "Python 3",
   "language": "python",
   "name": "python3"
  },
  "language_info": {
   "codemirror_mode": {
    "name": "ipython",
    "version": 3
   },
   "file_extension": ".py",
   "mimetype": "text/x-python",
   "name": "python",
   "nbconvert_exporter": "python",
   "pygments_lexer": "ipython3",
   "version": "3.3.5"
  }
 },
 "nbformat": 4,
 "nbformat_minor": 0
}
