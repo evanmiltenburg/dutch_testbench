{
 "metadata": {
  "name": "",
  "signature": "sha256:b9b957d141e6ed3d7cf39ba0c041d2028bf328826c149ef27a93b5c8ead86ac9"
 },
 "nbformat": 3,
 "nbformat_minor": 0,
 "worksheets": [
  {
   "cells": [
    {
     "cell_type": "code",
     "collapsed": false,
     "input": [
      "import csv\n",
      "import glob\n",
      "from scipy.stats import pearsonr, spearmanr"
     ],
     "language": "python",
     "metadata": {},
     "outputs": [],
     "prompt_number": 1
    },
    {
     "cell_type": "code",
     "collapsed": false,
     "input": [
      "csvfiles = glob.glob('similarity_values/*.csv')"
     ],
     "language": "python",
     "metadata": {},
     "outputs": [],
     "prompt_number": 2
    },
    {
     "cell_type": "code",
     "collapsed": false,
     "input": [
      "def category(filename):\n",
      "    \"Get category name from filename.\"\n",
      "    return filename.split('/')[-1][:-4]"
     ],
     "language": "python",
     "metadata": {},
     "outputs": [],
     "prompt_number": 8
    },
    {
     "cell_type": "code",
     "collapsed": false,
     "input": [
      "def similarity_dict():\n",
      "    \"Get a dictionary with the similarity values, by category.\"\n",
      "    d = dict()\n",
      "    for filename in csvfiles:\n",
      "        with open(filename) as f:\n",
      "            reader = csv.reader(f,delimiter='\\t')\n",
      "            d[category(filename)] = {(a,b):float(score) for a,b,score in reader}\n",
      "    return d"
     ],
     "language": "python",
     "metadata": {},
     "outputs": [],
     "prompt_number": 9
    },
    {
     "cell_type": "code",
     "collapsed": false,
     "input": [
      "# Initialize variable containing the similarity dictionary.\n",
      "d = similarity_dict()"
     ],
     "language": "python",
     "metadata": {},
     "outputs": [],
     "prompt_number": 10
    },
    {
     "cell_type": "code",
     "collapsed": false,
     "input": [
      "def test_on_category(model, category, vocab=None, simdict=d):\n",
      "    \"Test the model on an individual category, returning pearson and spearman correlations.\"\n",
      "    predictions = []\n",
      "    actual_vals = []\n",
      "    if vocab == None:\n",
      "        vocab = set(model.vocab.keys())\n",
      "    for a,b in simdict[category]:\n",
      "        if {a,b}.issubset(vocab):\n",
      "            predictions.append(model.similarity(a,b))\n",
      "            actual_vals.append(simdict[(a,b)])\n",
      "    return {'pearson': pearsonr(predictions, actual_vals),\n",
      "            'spearman': spearmanr(predictions, actual_vals)}"
     ],
     "language": "python",
     "metadata": {},
     "outputs": [],
     "prompt_number": 13
    },
    {
     "cell_type": "code",
     "collapsed": false,
     "input": [
      "def test_all_categories(model, category, simdict=d):\n",
      "    \"Test the model on all categories, returning a dictionary with the results per category.\"\n",
      "    vocab = set(model.vocab.keys())\n",
      "    return {category: test_on_category(model, category, vocab, simdict)\n",
      "            for category in simdict}"
     ],
     "language": "python",
     "metadata": {},
     "outputs": [],
     "prompt_number": 14
    },
    {
     "cell_type": "code",
     "collapsed": false,
     "input": [
      "def score_ordering(d, test='spearman'):\n",
      "    \"Order the scores (for a particular test) by their absolute value.\"\n",
      "    return sorted(d.items(), reverse=True, key=lambda (category,score):abs(score[test]))"
     ],
     "language": "python",
     "metadata": {},
     "outputs": [],
     "prompt_number": 16
    },
    {
     "cell_type": "code",
     "collapsed": false,
     "input": [
      "def statistics(d):\n",
      "    \"Generate statistics on the scores, using the ordering function defined above.\"\n",
      "    stats = {'spearman':{}, 'pearson':{}}\n",
      "    for test in stats:\n",
      "        ordered = score_ordering(d, test)\n",
      "        stats[test]['best'] = ordered[0]\n",
      "        stats[test]['worst'] = ordered[-1]\n",
      "        stats[test]['average'] = float(sum(score[test] for category,score in ordered))/len(ordered)\n",
      "    return stats"
     ],
     "language": "python",
     "metadata": {},
     "outputs": [],
     "prompt_number": 17
    },
    {
     "cell_type": "code",
     "collapsed": false,
     "input": [],
     "language": "python",
     "metadata": {},
     "outputs": []
    }
   ],
   "metadata": {}
  }
 ]
}